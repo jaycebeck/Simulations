{
 "cells": [
  {
   "cell_type": "markdown",
   "id": "30a03438",
   "metadata": {},
   "source": [
    "# Project 5d-SIR models in SPACE\n",
    "\n",
    "Until now, we have been approaching disease models in a way that lumps spatial information: entire population classes, despite the fact that humans are geographically separated, are treated as single variables (S,I, or R).  However, it is possible to simulate disease propagation at rather different levels of detail.  One very interesting and very detailed way is to use agent-based models, which means that every single person in the environment is treated individually.  Such models are quite expensive to run.  Another way is a lattice SIR model, which is what we will explore in this section (partially as a means of motivating our next class of model).  \n",
    "\n",
    "The lattice model is very simple.  Instead of modelling an entire population via a single S, I, and R, we will define an $n\\times n$ grid and each location on the grid will have its own SIR status (to be concrete, you could represent these by three numpy arrays).  At each of these locations $k$, we might have dynamics like\n",
    "$$\n",
    "\\frac{\\partial S_{k}}{\\partial t} = -\\beta S_{k} I_{k}\n",
    "$$\n",
    "$$\n",
    "\\frac{\\partial I_{k}}{\\partial t} = \\beta S_{k} I_{k} - \\gamma I_{k}\n",
    "$$\n",
    "$$\n",
    "\\frac{\\partial R_{k}}{\\partial t} = \\gamma I_{k}.\n",
    "$$\n",
    "However, this wouldn't be a very interesting model because each of the locations on the grid are independent from one another.  Instead, we would like adjacent grid cells to be *coupled* (this is similar to the Game of Life).  What sort of coupling makes sense?  There are many possible situations that we could model now that we have some spatial dependency.  One simple possibility states that: rather than susceptible individuals being converted into infected individuals as $-\\beta S_{k} I_{k}$, we could have that  \n",
    "$$\n",
    "\\frac{\\partial S_{k}}{\\partial t} = -\\beta S_{k}\\; \\sum_{j\\in adj(k)} \\frac{I_j}{9},\n",
    "$$\n",
    "(with a similar modification to the rate of change in infected) which is to say that the infection probability is now proportional to the average number of infected individuals in the cells adjacent to $k$. \n",
    "\n",
    "**Implement and run the model described above. Begin by using $n=50$, $\\beta=1$, and $\\gamma=0.1$.  Assume periodic boundary conditions.  Start with only a single grid cell somewhere in the domain containing an infected individual.**  A few hints for modifying your code: just like with the molecular dynamics problem, you'll need to figure out a way to map from a vector of variables of size $3N$, with $N=n^2$ to the S, I, and R values at each location in a grid.  Internally within my rhs function I (for example) took the first $N$ elements in my vector to be my $S$ values and then explicitly reshaped them back into a grid using np.reshape.  At the end of this function, I turned grid variables back into a vector using np.ravel and concatenation.  For computing the spatial average, I suggest the convolve2d function from scipy.signal (pay attention to the keyword arguments for easy implementation of boundaries, in particular boundary='wrap')."
   ]
  },
  {
   "cell_type": "code",
   "execution_count": null,
   "id": "16de5625",
   "metadata": {},
   "outputs": [],
   "source": []
  },
  {
   "cell_type": "markdown",
   "id": "48e31772",
   "metadata": {},
   "source": [
    "**Animate the solution (I suggest repurposing code from Conway's Game of Life).  Describe the patterns that you see of the population classes in space and time.** "
   ]
  },
  {
   "cell_type": "code",
   "execution_count": null,
   "id": "1f800085",
   "metadata": {},
   "outputs": [],
   "source": []
  },
  {
   "cell_type": "markdown",
   "id": "88447714",
   "metadata": {},
   "source": [
    "### Barriers\n",
    "We can utilize this model to explore the influence of geographic barriers to disease propagation.  First, modify your code to accept a spatially varying value of $\\beta$, i.e. \n",
    "$$\n",
    "\\frac{\\partial S_{k}}{\\partial t} = -\\beta_k S_{k}\\; \\sum_{j\\in adj(k)} \\frac{I_j}{9}.\n",
    "$$\n",
    "Second, modify your boundary conditions to *not* be periodic.  If you used scipy.convolve, then you can do this by changing the boundary keyword to 'symm'.    \n",
    "\n",
    "**Now, create a simulation that utilizes a barrier.  For example, you might set the middle 1/3 of the domain to have $\\beta=0$.  How does the simulation change?  If the barrier is imperfect, does the disease still reach the other side?**"
   ]
  },
  {
   "cell_type": "code",
   "execution_count": null,
   "id": "9e6aa86b",
   "metadata": {},
   "outputs": [],
   "source": []
  }
 ],
 "metadata": {
  "kernelspec": {
   "display_name": "Python 3 (ipykernel)",
   "language": "python",
   "name": "python3"
  },
  "language_info": {
   "codemirror_mode": {
    "name": "ipython",
    "version": 3
   },
   "file_extension": ".py",
   "mimetype": "text/x-python",
   "name": "python",
   "nbconvert_exporter": "python",
   "pygments_lexer": "ipython3",
   "version": "3.10.6"
  }
 },
 "nbformat": 4,
 "nbformat_minor": 5
}
