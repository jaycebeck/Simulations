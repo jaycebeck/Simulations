{
 "cells": [
  {
   "cell_type": "markdown",
   "id": "1d38b89d",
   "metadata": {},
   "source": [
    "# Project 6c - Implicit time integration\n",
    "Recall the matrix form of the equations\n",
    "$$\n",
    "\\frac{\\partial \\mathbf{u}}{\\partial t} = A \\mathbf{u} + \\mathbf{b}.\n",
    "$$\n",
    "Note that these have been discretized in space, but not in time.  The standard forward Euler method for time integration would read:\n",
    "\n",
    "$$\n",
    "\\frac{\\mathbf{u}_{t+1} - \\mathbf{u}_t}{\\Delta t} = A \\mathbf{u}_{t} + \\mathbf{b}.\n",
    "$$\n",
    "This works, but requires satisfaction of the CFL condition (a maximum time step).  However, it would also be reasonable to write\n",
    "$$\n",
    "\\frac{\\mathbf{u}_{t+1} - \\mathbf{u}_t}{\\Delta t} = A \\mathbf{u}_{t+1} + \\mathbf{b},\n",
    "$$\n",
    "in which we solve for the future *in terms of the future*: this is called the Backward Euler method.  This turns out to be a little bit more challenging to solve, but a whole lot more stable.  To see why it's harder to solve, let's rearrange the equation $u_{t+1}$:\n",
    "$$\n",
    "\\left(\\frac{I}\\Delta t - A\\right)\\mathbf{u_{t+1}} = \\frac{\\mathbf{u}_t}{\\Delta t} + \\mathbf{b}, \n",
    "$$\n",
    "where I is an appropriately sized identity matrix.  Previously, we were able to compute the new $\\mathbf{u}_{t+1}$ directly, but now it's being multiplied by a matrix.  In particular, we could write\n",
    "$$\n",
    "L \\mathbf{u}_{t+1} = \\mathbf{f},\n",
    "$$\n",
    "where $L = \\left(\\frac{I}{\\Delta t} - A\\right)$ and $\\mathbf{f}=\\frac{\\mathbf{u}_t}{\\Delta t} + \\mathbf{b}$.  Solving this system of linear equations gives us our update.  \n",
    "\n",
    "**Develop a new integration method class called BackwardEuler.**  This takes a bit of modification to the problem class as well, because the integrator needs more than just the right hand side of the equations to compute the new value of $\\mathbf{u}$.  You can assume that BackwardEuler will have access to two new methods of the problem class called stiffness_matrix (which returns $A$) and load_vector (which returns $\\mathbf{b}$), both of which you'll also need to implement (although this is sort of trivial).  "
   ]
  },
  {
   "cell_type": "code",
   "execution_count": null,
   "id": "7f5ee3d7",
   "metadata": {},
   "outputs": [],
   "source": [
    "import numpy as np\n",
    "import ode_methods as om\n",
    "import matplotlib.pyplot as plt\n",
    "\n",
    "class Diffusion:\n",
    "    \n",
    "    def __init__(self,f):\n",
    "        # Your methods here\n",
    "        pass\n",
    "            \n",
    "    def rhs(self,t,u):\n",
    "        # Your methods here\n",
    "        return dudt\n",
    "    \n",
    "    def stiffness_matrix(self):\n",
    "        return self.A\n",
    "    \n",
    "    def load_vector(self):\n",
    "        return self.b"
   ]
  },
  {
   "cell_type": "code",
   "execution_count": null,
   "id": "df391552",
   "metadata": {},
   "outputs": [],
   "source": [
    "class BackwardEuler:\n",
    "    def __init__(self):\n",
    "        pass   \n",
    "    \n",
    "    def step(self,ode,t,dt,u_0):\n",
    "        pass\n"
   ]
  },
  {
   "cell_type": "markdown",
   "id": "8cabb5c0",
   "metadata": {},
   "source": [
    "**Test your function by comparing it to solutions using forward Euler for similar (stable) time steps.  Does it perform as well?**  "
   ]
  },
  {
   "cell_type": "code",
   "execution_count": null,
   "id": "4c42b00f",
   "metadata": {},
   "outputs": [],
   "source": []
  },
  {
   "cell_type": "markdown",
   "id": "78b122e6",
   "metadata": {},
   "source": [
    "**Now try it with increasingly large time steps.  Does it suffer the same fate as forward Euler?  What is the relative downside to using this method versus forward Euler?  "
   ]
  },
  {
   "cell_type": "code",
   "execution_count": null,
   "id": "6c986025",
   "metadata": {},
   "outputs": [],
   "source": []
  },
  {
   "cell_type": "markdown",
   "id": "35d4ffa0",
   "metadata": {},
   "source": [
    "**The natural extension of the method described above is to develop a method that computes the steady-state solution, in which the time-derivative is explicitly zero.  Describe and implement a sensible approach.  In particular, consider whether or not the notion of integration through time is even needed anymore.**"
   ]
  },
  {
   "cell_type": "code",
   "execution_count": null,
   "id": "217bd620",
   "metadata": {},
   "outputs": [],
   "source": []
  }
 ],
 "metadata": {
  "kernelspec": {
   "display_name": "Python 3 (ipykernel)",
   "language": "python",
   "name": "python3"
  },
  "language_info": {
   "codemirror_mode": {
    "name": "ipython",
    "version": 3
   },
   "file_extension": ".py",
   "mimetype": "text/x-python",
   "name": "python",
   "nbconvert_exporter": "python",
   "pygments_lexer": "ipython3",
   "version": "3.10.6"
  }
 },
 "nbformat": 4,
 "nbformat_minor": 5
}
