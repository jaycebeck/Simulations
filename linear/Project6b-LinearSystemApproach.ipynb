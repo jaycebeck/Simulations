{
 "cells": [
  {
   "cell_type": "markdown",
   "id": "1d38b89d",
   "metadata": {},
   "source": [
    "# Project 6b - Linear system perspective\n",
    "\n",
    "We have heretofore been approaching the discretization of spatial derivatives as a *convolution* operation, in which we slide a second derivative kernel over a function in order to get a function response.  An important fact is that convolution is a linear operation, which means that it's transitive and associative and all that, but stuff, but also that we can rewrite the convolution operation by a matrix.  To see this, recall that for some arbitrary location in the domain, we have as a right hand side\n",
    "$$\n",
    "\\frac{\\partial u_i}{\\partial t} = \\frac{k}{\\Delta x^2} \\begin{bmatrix} 1 & -2 & 1 \\end{bmatrix} \\begin{bmatrix} u_{i-1} \\\\ u_i \\\\ u_{i+1}\\end{bmatrix}.\n",
    "$$\n",
    "Of course, we also have that \n",
    "$$\n",
    "\\frac{\\partial u_{i+1}}{\\partial t} = \\frac{k}{\\Delta x^2} \\begin{bmatrix} 1 & -2 & 1 \\end{bmatrix} \\begin{bmatrix} u_{i} \\\\ u_{i+1} \\\\ u_{i+2}\\end{bmatrix}.\n",
    "$$\n",
    "If we put these together, we could write the equation for both locations simultaneously as \n",
    "$$\n",
    "\\begin{bmatrix}\\frac{\\partial u_{i}}{\\partial t} \\\\ \\frac{\\partial u_{i+1}}{\\partial t}\\end{bmatrix}  = \\frac{k}{\\Delta x^2} \\begin{bmatrix} 1 & -2 & 1 & 0 \\\\ 0 & 1 & -2 & 1 \\end{bmatrix} \\begin{bmatrix} u_{i-1} \\\\ u_{i} \\\\ u_{i+1} \\\\ u_{i+2}\\end{bmatrix}.\n",
    "$$\n",
    "If we expanded this to every location in the domain, we could write this rather simply as \n",
    "$$\n",
    "\\frac{\\partial \\mathbf{u}}{\\partial t} = A \\mathbf{u},\n",
    "$$\n",
    "where\n",
    "$$\n",
    "A = \\frac{k}{\\Delta x^2}\\begin{bmatrix}     -2 &  1 & 0 & \\cdots & 0 & 0 & 1 \\\\\n",
    "                     1 & -2 & 1 & \\cdots & 0 & 0 & 0 \\\\\n",
    "                     0 &  1 & 2 & \\cdots & 0 & 0 & 0 \\\\\n",
    "                     \\vdots &  \\vdots & \\vdots & \\ddots &\\vdots  & \\vdots & \\vdots \\\\\n",
    "                     0 & 0 & 0 & \\cdots  & 1 & -2 & 1 \\\\\n",
    "                     1 & 0 & 0 & \\cdots  & 0 & 1 & -2\n",
    "                      \\end{bmatrix},\n",
    "$$\n",
    "and where we have assumed periodic boundary conditions.  To impose other boundary conditions, we can simply modify the rows commensurately with the formulae that we've seen previously.  For example, to handle the case where we have a Dirichlet boundary on the left hand side, and a Neumann boundary on the right, we can write\n",
    "$$\n",
    "\\frac{\\partial \\mathbf{u}}{\\partial t} = A \\mathbf{u} + \\mathbf{b},\n",
    "$$\n",
    "where\n",
    "$$\n",
    "A = \\frac{k}{\\Delta x^2} \\begin{bmatrix}     0 &  0 & 0 & \\cdots & 0 & 0 & 0 \\\\\n",
    "                     1 & -2 & 1 & \\cdots & 0 & 0 & 0 \\\\\n",
    "                     0 &  1 & 2 & \\cdots & 0 & 0 & 0 \\\\\n",
    "                     \\vdots &  \\vdots & \\vdots & \\ddots &\\vdots  & \\vdots & \\vdots \\\\\n",
    "                     0 & 0 & 0 & \\cdots  & 1 & -2 & 1 \\\\\n",
    "                     0 & 0 & 0 & \\cdots  & 0 & 2 & -2\n",
    "                      \\end{bmatrix},\n",
    "$$\n",
    "and \n",
    "$$\n",
    "\\mathbf{b} = \\begin{bmatrix} 0 \\\\ 0 \\\\ 0 \\\\ \\vdots \\\\ 0 \\\\ \\frac{2 C}{\\Delta x} \\end{bmatrix}.\n",
    "$$\n",
    "**Modify your diffusion problem to utilize this matrix formulation, then ensure that your solutions are equivalent to those you computed with the convolution approach.  (Bonus credibility if you can write this code to handle either Dirichlet or Neumann conditions on either boundary.)  (Bonus bonus credibility if you can make this work with a sparse matrix data type.)**\n",
    "\n",
    "\n",
    "\n",
    "\n",
    "\n",
    "\n",
    "\n",
    "\n",
    "\n",
    "\n"
   ]
  },
  {
   "cell_type": "code",
   "execution_count": null,
   "id": "aa7afa5e",
   "metadata": {},
   "outputs": [],
   "source": []
  }
 ],
 "metadata": {
  "kernelspec": {
   "display_name": "Python 3 (ipykernel)",
   "language": "python",
   "name": "python3"
  },
  "language_info": {
   "codemirror_mode": {
    "name": "ipython",
    "version": 3
   },
   "file_extension": ".py",
   "mimetype": "text/x-python",
   "name": "python",
   "nbconvert_exporter": "python",
   "pygments_lexer": "ipython3",
   "version": "3.10.6"
  }
 },
 "nbformat": 4,
 "nbformat_minor": 5
}
