{
 "cells": [
  {
   "cell_type": "markdown",
   "id": "85a56443",
   "metadata": {},
   "source": [
    "This is a simple notebook to test your installation of jupyter, matplotlib, and numpy.  First, let's import numpy and make sure that it works"
   ]
  },
  {
   "cell_type": "code",
   "execution_count": null,
   "id": "757c228a",
   "metadata": {},
   "outputs": [],
   "source": [
    "import numpy as np\n",
    "\n",
    "x = np.linspace(0,1,201)\n",
    "y = np.cos(4*np.pi*x)"
   ]
  },
  {
   "cell_type": "markdown",
   "id": "05aa9fac",
   "metadata": {},
   "source": [
    "Next, let's try matplotlib"
   ]
  },
  {
   "cell_type": "code",
   "execution_count": null,
   "id": "32616315",
   "metadata": {},
   "outputs": [],
   "source": [
    "import matplotlib.pyplot as plt\n",
    "\n",
    "plt.plot(x,y)"
   ]
  },
  {
   "cell_type": "markdown",
   "id": "a1c5a382",
   "metadata": {},
   "source": [
    "If you see some cosines, looks like everything is working right!"
   ]
  }
 ],
 "metadata": {
  "kernelspec": {
   "display_name": "Python 3 (ipykernel)",
   "language": "python",
   "name": "python3"
  },
  "language_info": {
   "codemirror_mode": {
    "name": "ipython",
    "version": 3
   },
   "file_extension": ".py",
   "mimetype": "text/x-python",
   "name": "python",
   "nbconvert_exporter": "python",
   "pygments_lexer": "ipython3",
   "version": "3.10.8"
  }
 },
 "nbformat": 4,
 "nbformat_minor": 5
}
