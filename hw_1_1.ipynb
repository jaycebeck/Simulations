{
 "cells": [
  {
   "cell_type": "markdown",
   "metadata": {},
   "source": [
    "### CSCI 477/577: Homework 1\n",
    "Due 02/23/2023"
   ]
  },
  {
   "cell_type": "markdown",
   "metadata": {},
   "source": [
    "#### Problem 1: Comparing the motion of two objects (Gould 3.11)"
   ]
  },
  {
   "cell_type": "markdown",
   "metadata": {},
   "source": [
    "Consider the motion of two identical objects that both start from a height h. One object is dropped\n",
    "vertically from rest and the other is thrown with a horizontal velocity v0,x. Which object reaches the ground\n",
    "first?"
   ]
  },
  {
   "cell_type": "markdown",
   "metadata": {},
   "source": [
    "1. Give reasons for your answer assuming that air resistance can be neglected."
   ]
  },
  {
   "cell_type": "markdown",
   "metadata": {},
   "source": [
    "2. Assume that air resistance cannot be neglected and that the drag force is proportional to |v|^2. Give reasons for your anticipated answer for this case. Then perform numerical simulations using, for example, c_d/m = 0.1, h = 10m, and v_0,x = 30 m/s. Are your qualitative results consistent with your anticipated answer?"
   ]
  },
  {
   "cell_type": "markdown",
   "metadata": {},
   "source": [
    "3. Suppose that the drag force is proportional to |v| rather than to |v|^2. Is your anticipated answer similar to that in part (b)? Do a numerical simulation to test your intuition."
   ]
  },
  {
   "cell_type": "markdown",
   "metadata": {},
   "source": [
    "#### Problem 2: Conservation of energy"
   ]
  },
  {
   "cell_type": "markdown",
   "metadata": {},
   "source": [
    "Consider the problem of a simple harmonic oscillator, which obeys the equation\n",
    "<!-- latex dv/dt = -x -->\n",
    "$$\n",
    "\\begin{equation}\n",
    "\\frac{dv}{dt} = -x\n",
    "\\end{equation}\n",
    "$$\n",
    "$$\n",
    "\\begin{equation}\n",
    "\\frac{dx}{dt} = v\n",
    "\\end{equation}\n",
    "$$\n",
    "with initial conditions $x_{0}$ = 1 and $v_{0}$ = 0. The total energy of this system is given by\n",
    "<!-- latex E = 1/2v^2 + 1/2x^2 -->\n",
    "$$\n",
    "\\begin{equation}\n",
    "E = \\frac{1}{2}v^2 + \\frac{1}{2}x^2\n",
    "\\end{equation}\n",
    "$$\n",
    "with a true value of $E = \\frac{1}{2}$."
   ]
  },
  {
   "cell_type": "markdown",
   "metadata": {},
   "source": [
    "Show using a numerical simulation of the above equations that after a single time step, the energy for both the Euler and Euler-Cromer scheme changes proportionally to  For example, you could make a log-log plot of the energy error |E1 −12| for both schemes and evaluate the slope of the resulting line.\n",
    "\n",
    "1. Show that the energy error for the Euler-Cromer scheme is proportional to $\\Delta t^2$ by making a log-log plot of the energy error $|E_{1} −\\frac{1}{2}|$ versus $\\Delta t$ and evaluating the slope of the resulting line."
   ]
  },
  {
   "cell_type": "markdown",
   "metadata": {},
   "source": [
    "2. Do the same analysis but for the average error over a single period of the oscillator, which for this problem is $T = 2π$ (i.e. integrate the equations from $t = 0$ to $t = T$ and compute the same energy error metric as before, but averaged over all time steps). Show that the error for Euler grows proportionally to $\\Delta t$, but that the error for Euler-Cromer still grows as $\\Delta t^2$."
   ]
  },
  {
   "cell_type": "markdown",
   "metadata": {},
   "source": [
    "#### Problem 3: The coffee cup (Gould 3.14)"
   ]
  },
  {
   "cell_type": "markdown",
   "metadata": {},
   "source": [
    "The nature of the energy transfer from the hot water in a cup of coffee to the surrounding air is complicated and, in general, involves the mechanisms of convection, radiation, evaporation, and conduction. However, if the temperature difference between the water and its surroundings is not too large, the rate of change of the temperature of the water may be assumed to be proportional to the temperature difference. We can formulate this statement more precisely in terms of a differential equation:\n",
    "$$\n",
    "\\begin{equation}\n",
    "\\frac{dT}{dt} = -r(T-T_{s})\n",
    "\\end{equation}\n",
    "$$\n",
    "where $T$ is the temperature of the water, $T_{s}$ is the temperature of its surroundings, and $r$ is the cooling constant. The minus sign in (3.21) implies that if $T$ > $T_{s}$, the temperature of the water will decrease with time. The value of the cooling constant r depends on the heat transfer mechanism, the contact area with the surroundings, and the thermal properties of the water. The relation is sometimes known as Newton’s law of cooling, even though the relation is only approximate, and Newton did not express the rate of cooling in this form."
   ]
  },
  {
   "cell_type": "markdown",
   "metadata": {},
   "source": [
    "1. Write a program that computes the numerical solution. Test your program by choosing the initial temperature $T_{0} = 100C, T_{s} = 0C$, and $r = 1$."
   ]
  },
  {
   "cell_type": "markdown",
   "metadata": {},
   "source": [
    "2. Model the cooling of a cup of coffee by choosing $r = 0.03$. What are the units of r? Plot the temperature $T$ as a function of the time using $T_{0} = 87C$ and $T_{s} = 17C$. Make sure that your value of $\\Delta t$ is sufficiently small so that it does not affect your results. What is the appropriate unit of time in this case?"
   ]
  },
  {
   "cell_type": "markdown",
   "metadata": {},
   "source": [
    "3. Suppose that the initial temperature of a cup of coffee is 87C, but the coffee can be sipped comfortably only when its temperature is ≤ 75C. Assume that the addition of cream cools the coffee by 5C. If you are in a hurry and want to wait the shortest possible time, should the cream be added first and the coffee be allowed to cool, or should you wait until the coffee has cooled to 80C before adding the cream? Use your program to simulate these two cases."
   ]
  }
 ],
 "metadata": {
  "language_info": {
   "name": "python"
  }
 },
 "nbformat": 4,
 "nbformat_minor": 2
}
