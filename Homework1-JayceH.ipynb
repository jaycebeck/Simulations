{
 "cells": [
  {
   "cell_type": "markdown",
   "metadata": {},
   "source": [
    "### Jayce Holdsambeck"
   ]
  },
  {
   "cell_type": "markdown",
   "metadata": {},
   "source": [
    "### CSCI 477/577: Homework 1\n",
    "Due 02/23/2023"
   ]
  },
  {
   "cell_type": "code",
   "execution_count": 1,
   "metadata": {},
   "outputs": [],
   "source": [
    "import numpy as np\n",
    "import matplotlib.pyplot as plt"
   ]
  },
  {
   "cell_type": "markdown",
   "metadata": {},
   "source": [
    "#### Problem 1: Comparing the motion of two objects (Gould 3.11)"
   ]
  },
  {
   "cell_type": "markdown",
   "metadata": {},
   "source": [
    "Consider the motion of two identical objects that both start from a height h. One object is dropped\n",
    "vertically from rest and the other is thrown with a horizontal velocity v0,x. Which object reaches the ground\n",
    "first?"
   ]
  },
  {
   "cell_type": "code",
   "execution_count": 2,
   "metadata": {},
   "outputs": [],
   "source": [
    "class Integrator:\n",
    "    def __init__(self, ode, method):\n",
    "        # initializing the ode and the method to compute the ode\n",
    "        self.ode = ode\n",
    "        self.method = method\n",
    "\n",
    "    def integrate(self, interval, dt, u_0):\n",
    "        # assigning the time intervals from the array gievn\n",
    "        t_0 = interval[0]\n",
    "        t_end = interval[1]\n",
    "\n",
    "        # initialize storage of the times and the different states that the\n",
    "        # with the starting input of position, velocity and start time\n",
    "        times = [t_0]\n",
    "        states = [u_0]\n",
    "\n",
    "        # loop through and iteratively compute each step in computing the estimates\n",
    "        # based on the method used\n",
    "        # store both the time steps and the position and velocity of each step\n",
    "        t = t_0\n",
    "        while t < t_end:\n",
    "            dt_ = min(dt, t_end - t)\n",
    "            u_1 = self.method.step(self.ode, t, dt_, u_0)\n",
    "            t = t + dt_\n",
    "            u_0 = u_1\n",
    "\n",
    "            times.append(t)\n",
    "            states.append(u_1)\n",
    "\n",
    "        return np.array(times), np.array(states)"
   ]
  },
  {
   "cell_type": "markdown",
   "metadata": {},
   "source": [
    "1. Give reasons for your answer assuming that air resistance can be neglected."
   ]
  },
  {
   "cell_type": "code",
   "execution_count": 3,
   "metadata": {},
   "outputs": [
    {
     "ename": "NameError",
     "evalue": "name 'ParticleMotion2DWithDrag' is not defined",
     "output_type": "error",
     "traceback": [
      "\u001b[1;31m---------------------------------------------------------------------------\u001b[0m",
      "\u001b[1;31mNameError\u001b[0m                                 Traceback (most recent call last)",
      "Cell \u001b[1;32mIn[3], line 1\u001b[0m\n\u001b[1;32m----> 1\u001b[0m pm \u001b[38;5;241m=\u001b[39m ParticleMotion2DWithDrag()\n\u001b[0;32m      2\u001b[0m method \u001b[38;5;241m=\u001b[39m Heun()\n\u001b[0;32m      3\u001b[0m integrator \u001b[38;5;241m=\u001b[39m Integrator(pm, method)\n",
      "\u001b[1;31mNameError\u001b[0m: name 'ParticleMotion2DWithDrag' is not defined"
     ]
    }
   ],
   "source": [
    "pm = ParticleMotion2DWithDrag()\n",
    "method = Heun()\n",
    "integrator = Integrator(pm, method)\n",
    "\n",
    "time_steps = np.linspace(0.01, 0.1, 5)\n",
    "size = len(time_steps)\n",
    "fig, ax = plt.subplots(ncols=size)\n",
    "\n",
    "fig.set_figwidth(20)\n",
    "fig.set_figheight(5)\n",
    "fig.tight_layout()\n",
    "\n",
    "for i in range(size):\n",
    "    t_0 = 0.0\n",
    "    t_end = 1.0\n",
    "    dt = time_steps[i]\n",
    "    x_0 = 0\n",
    "    z_0 = 5.0\n",
    "    xv_0 = 0\n",
    "    zv_0 = 5.0\n",
    "    t, u = integrator.integrate([t_0, t_end], dt, np.array([x_0, z_0, xv_0, zv_0]))\n",
    "\n",
    "    c = ax[i].quiver(u[:, 0], u[:, 2], u[:, 1], u[:, 3], t)\n",
    "    ax[i].set_xlabel(\"x\")\n",
    "    ax[i].set_ylabel(\"z\")\n",
    "    plt.colorbar(c)\n",
    "    plt.axis(\"equal\")"
   ]
  },
  {
   "cell_type": "markdown",
   "metadata": {},
   "source": [
    "2. Assume that air resistance cannot be neglected and that the drag force is proportional to |v|^2. Give reasons for your anticipated answer for this case. Then perform numerical simulations using, for example, c_d/m = 0.1, h = 10m, and v_0,x = 30 m/s. Are your qualitative results consistent with your anticipated answer?"
   ]
  },
  {
   "cell_type": "markdown",
   "metadata": {},
   "source": [
    "3. Suppose that the drag force is proportional to |v| rather than to |v|^2. Is your anticipated answer similar to that in part (b)? Do a numerical simulation to test your intuition."
   ]
  },
  {
   "cell_type": "markdown",
   "metadata": {},
   "source": [
    "#### Problem 2: Conservation of energy"
   ]
  },
  {
   "cell_type": "markdown",
   "metadata": {},
   "source": [
    "Consider the problem of a simple harmonic oscillator, which obeys the equation\n",
    "<!-- latex dv/dt = -x -->\n",
    "$$\n",
    "\\begin{equation}\n",
    "\\frac{dv}{dt} = -x\n",
    "\\end{equation}\n",
    "$$\n",
    "$$\n",
    "\\begin{equation}\n",
    "\\frac{dx}{dt} = v\n",
    "\\end{equation}\n",
    "$$\n",
    "with initial conditions $x_{0}$ = 1 and $v_{0}$ = 0. The total energy of this system is given by\n",
    "<!-- latex E = 1/2v^2 + 1/2x^2 -->\n",
    "$$\n",
    "\\begin{equation}\n",
    "E = \\frac{1}{2}v^2 + \\frac{1}{2}x^2\n",
    "\\end{equation}\n",
    "$$\n",
    "with a true value of $E = \\frac{1}{2}$."
   ]
  },
  {
   "cell_type": "markdown",
   "metadata": {},
   "source": [
    "Show using a numerical simulation of the above equations that after a single time step, the energy for both the Euler and Euler-Cromer scheme changes proportionally to  For example, you could make a log-log plot of the energy error |E1 −12| for both schemes and evaluate the slope of the resulting line.\n",
    "\n",
    "1. Show that the energy error for the Euler-Cromer scheme is proportional to $\\Delta t^2$ by making a log-log plot of the energy error $|E_{1} −\\frac{1}{2}|$ versus $\\Delta t$ and evaluating the slope of the resulting line."
   ]
  },
  {
   "cell_type": "code",
   "execution_count": 4,
   "metadata": {},
   "outputs": [],
   "source": [
    "class Energy:\n",
    "\n",
    "    def __init__(self):\n",
    "        pass\n",
    "\n",
    "    def rhs(self, t,u):\n",
    "        u_1 = np.zeros(2)\n",
    "\n",
    "        u_1[0] = u[1]\n",
    "        u_1[1] = -u[0]\n",
    "\n",
    "        return u_1\n",
    "class Euler:\n",
    "\n",
    "    def __init__(self):\n",
    "        pass\n",
    "\n",
    "    def step (self, ode,t, dt, u_0):\n",
    "\n",
    "        u_1 = u_0 + dt*ode.rhs (t, u_0)\n",
    "\n",
    "        E = 0.5*((u_1[0])**2)+0.5*((u_1[1])**2)\n",
    "\n",
    "        return u_1, E"
   ]
  },
  {
   "cell_type": "code",
   "execution_count": 5,
   "metadata": {},
   "outputs": [],
   "source": [
    "\n",
    "class Cromer:\n",
    "    def __init__(self):\n",
    "        pass   \n",
    "    \n",
    "    def step(self, ode, t, dt, u_0):\n",
    "        u_x = u_0 + ode.rhs(t, u_0)*dt\n",
    "        u_new = np.zeros_like(u_0)\n",
    "        u_new[1::2] = u_x[1::2]\n",
    "        u_new[::2] = u_0[::2]\n",
    "\n",
    "        u_1 = u_0 + ode.rhs(t, u_new)*dt\n",
    "        E = 0.5*((u_1[0])**2)+0.5*((u_1[1])**2)\n",
    "        return u_1, E"
   ]
  },
  {
   "cell_type": "code",
   "execution_count": 6,
   "metadata": {},
   "outputs": [
    {
     "data": {
      "image/png": "[encoded data removed]",
      "text/plain": [
       "<Figure size 640x480 with 1 Axes>"
      ]
     },
     "metadata": {},
     "output_type": "display_data"
    }
   ],
   "source": [
    "times = np.logspace(-5,10,30)\n",
    "\n",
    "eu = Euler()\n",
    "cr = Cromer()\n",
    "e = Energy()\n",
    "u_0 = [1.0, 0.0]\n",
    "\n",
    "E_euler = []\n",
    "E_cromer = []\n",
    "\n",
    "for dt in times:\n",
    "    _,energy = eu.step(e, 1.0, dt, u_0)\n",
    "    E_euler.append(np.abs(energy-0.5))\n",
    "    _, energy = cr.step(e, 1.0, dt, u_0)\n",
    "    E_cromer.append(np.abs(energy-0.5))\n",
    "\n",
    "E_euler = np.array(E_euler)\n",
    "E_cromer = np.array(E_cromer)\n",
    "\n",
    "plt.loglog(times, E_euler, label='Euler')\n",
    "plt.loglog(times, E_cromer, '--', label='EulerCromer')\n",
    "plt.xlabel('log(delta_t)')\n",
    "plt.ylabel('log(|E-0.5|)')\n",
    "plt.grid(True)\n",
    "plt.legend()\n",
    "plt.show()\n"
   ]
  },
  {
   "cell_type": "markdown",
   "metadata": {},
   "source": [
    "2. Do the same analysis but for the average error over a single period of the oscillator, which for this problem is $T = 2π$ (i.e. integrate the equations from $t = 0$ to $t = T$ and compute the same energy error metric as before, but averaged over all time steps). Show that the error for Euler grows proportionally to $\\Delta t$, but that the error for Euler-Cromer still grows as $\\Delta t^2$."
   ]
  },
  {
   "cell_type": "markdown",
   "metadata": {},
   "source": [
    "#### Problem 3: The coffee cup (Gould 3.14)"
   ]
  },
  {
   "cell_type": "markdown",
   "metadata": {},
   "source": [
    "The nature of the energy transfer from the hot water in a cup of coffee to the surrounding air is complicated and, in general, involves the mechanisms of convection, radiation, evaporation, and conduction. However, if the temperature difference between the water and its surroundings is not too large, the rate of change of the temperature of the water may be assumed to be proportional to the temperature difference. We can formulate this statement more precisely in terms of a differential equation:\n",
    "$$\n",
    "\\begin{equation}\n",
    "\\frac{dT}{dt} = -r(T-T_{s})\n",
    "\\end{equation}\n",
    "$$\n",
    "where $T$ is the temperature of the water, $T_{s}$ is the temperature of its surroundings, and $r$ is the cooling constant. The minus sign in (3.21) implies that if $T$ > $T_{s}$, the temperature of the water will decrease with time. The value of the cooling constant r depends on the heat transfer mechanism, the contact area with the surroundings, and the thermal properties of the water. The relation is sometimes known as Newton’s law of cooling, even though the relation is only approximate, and Newton did not express the rate of cooling in this form."
   ]
  },
  {
   "cell_type": "markdown",
   "metadata": {},
   "source": [
    "1. Write a program that computes the numerical solution. Test your program by choosing the initial temperature $T_{0} = 100C, T_{s} = 0C$, and $r = 1$."
   ]
  },
  {
   "cell_type": "markdown",
   "metadata": {},
   "source": [
    "2. Model the cooling of a cup of coffee by choosing $r = 0.03$. What are the units of r? Plot the temperature $T$ as a function of the time using $T_{0} = 87C$ and $T_{s} = 17C$. Make sure that your value of $\\Delta t$ is sufficiently small so that it does not affect your results. What is the appropriate unit of time in this case?"
   ]
  },
  {
   "cell_type": "markdown",
   "metadata": {},
   "source": [
    "3. Suppose that the initial temperature of a cup of coffee is 87C, but the coffee can be sipped comfortably only when its temperature is ≤ 75C. Assume that the addition of cream cools the coffee by 5C. If you are in a hurry and want to wait the shortest possible time, should the cream be added first and the coffee be allowed to cool, or should you wait until the coffee has cooled to 80C before adding the cream? Use your program to simulate these two cases."
   ]
  }
 ],
 "metadata": {
  "kernelspec": {
   "display_name": "Python 3",
   "language": "python",
   "name": "python3"
  },
  "language_info": {
   "codemirror_mode": {
    "name": "ipython",
    "version": 3
   },
   "file_extension": ".py",
   "mimetype": "text/x-python",
   "name": "python",
   "nbconvert_exporter": "python",
   "pygments_lexer": "ipython3",
   "version": "3.11.7"
  }
 },
 "nbformat": 4,
 "nbformat_minor": 2
}
